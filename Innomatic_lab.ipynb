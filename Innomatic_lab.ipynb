{
 "cells": [
  {
   "cell_type": "code",
   "execution_count": 1,
   "id": "regulated-subscriber",
   "metadata": {},
   "outputs": [],
   "source": [
    "import numpy as np # linear algebra\n",
    "import pandas as pd # data processing, CSV file I/O (e.g. pd.read_csv)\n",
    "\n",
    "# import libraries for plotting\n",
    "import matplotlib.pyplot as plt\n",
    "import seaborn as sns\n",
    "%matplotlib inline\n",
    "import warnings\n",
    "\n",
    "warnings.filterwarnings('ignore')"
   ]
  },
  {
   "cell_type": "code",
   "execution_count": 2,
   "id": "acceptable-comfort",
   "metadata": {},
   "outputs": [],
   "source": [
    "df = pd.read_csv('data.csv')"
   ]
  },
  {
   "cell_type": "code",
   "execution_count": 3,
   "id": "positive-routine",
   "metadata": {},
   "outputs": [
    {
     "data": {
      "text/html": [
       "<style  type=\"text/css\" >\n",
       "#T_de6d3_row0_col0,#T_de6d3_row4_col0{\n",
       "            background-color:  #9fcae1;\n",
       "            color:  #000000;\n",
       "        }#T_de6d3_row0_col1,#T_de6d3_row1_col0,#T_de6d3_row4_col1{\n",
       "            background-color:  #08306b;\n",
       "            color:  #f1f1f1;\n",
       "        }#T_de6d3_row0_col2,#T_de6d3_row1_col1,#T_de6d3_row1_col2,#T_de6d3_row2_col0,#T_de6d3_row2_col2,#T_de6d3_row3_col2,#T_de6d3_row4_col2{\n",
       "            background-color:  #f7fbff;\n",
       "            color:  #000000;\n",
       "        }#T_de6d3_row2_col1{\n",
       "            background-color:  #64a9d3;\n",
       "            color:  #000000;\n",
       "        }#T_de6d3_row3_col0{\n",
       "            background-color:  #60a7d2;\n",
       "            color:  #000000;\n",
       "        }#T_de6d3_row3_col1{\n",
       "            background-color:  #d0e2f2;\n",
       "            color:  #000000;\n",
       "        }</style><table id=\"T_de6d3_\" ><thead>    <tr>        <th class=\"blank level0\" ></th>        <th class=\"col_heading level0 col0\" >x1</th>        <th class=\"col_heading level0 col1\" >x2</th>        <th class=\"col_heading level0 col2\" >y</th>    </tr></thead><tbody>\n",
       "                <tr>\n",
       "                        <th id=\"T_de6d3_level0_row0\" class=\"row_heading level0 row0\" >0</th>\n",
       "                        <td id=\"T_de6d3_row0_col0\" class=\"data row0 col0\" >-119.366669</td>\n",
       "                        <td id=\"T_de6d3_row0_col1\" class=\"data row0 col1\" >115.000000</td>\n",
       "                        <td id=\"T_de6d3_row0_col2\" class=\"data row0 col2\" >1</td>\n",
       "            </tr>\n",
       "            <tr>\n",
       "                        <th id=\"T_de6d3_level0_row1\" class=\"row_heading level0 row1\" >1</th>\n",
       "                        <td id=\"T_de6d3_row1_col0\" class=\"data row1 col0\" >-101.108045</td>\n",
       "                        <td id=\"T_de6d3_row1_col1\" class=\"data row1 col1\" >97.777159</td>\n",
       "                        <td id=\"T_de6d3_row1_col2\" class=\"data row1 col2\" >1</td>\n",
       "            </tr>\n",
       "            <tr>\n",
       "                        <th id=\"T_de6d3_level0_row2\" class=\"row_heading level0 row2\" >2</th>\n",
       "                        <td id=\"T_de6d3_row2_col0\" class=\"data row2 col0\" >-130.278658</td>\n",
       "                        <td id=\"T_de6d3_row2_col1\" class=\"data row2 col1\" >106.767654</td>\n",
       "                        <td id=\"T_de6d3_row2_col2\" class=\"data row2 col2\" >1</td>\n",
       "            </tr>\n",
       "            <tr>\n",
       "                        <th id=\"T_de6d3_level0_row3\" class=\"row_heading level0 row3\" >3</th>\n",
       "                        <td id=\"T_de6d3_row3_col0\" class=\"data row3 col0\" >-114.703415</td>\n",
       "                        <td id=\"T_de6d3_row3_col1\" class=\"data row3 col1\" >101.195477</td>\n",
       "                        <td id=\"T_de6d3_row3_col2\" class=\"data row3 col2\" >1</td>\n",
       "            </tr>\n",
       "            <tr>\n",
       "                        <th id=\"T_de6d3_level0_row4\" class=\"row_heading level0 row4\" >4</th>\n",
       "                        <td id=\"T_de6d3_row4_col0\" class=\"data row4 col0\" >-119.366669</td>\n",
       "                        <td id=\"T_de6d3_row4_col1\" class=\"data row4 col1\" >115.000000</td>\n",
       "                        <td id=\"T_de6d3_row4_col2\" class=\"data row4 col2\" >1</td>\n",
       "            </tr>\n",
       "    </tbody></table>"
      ],
      "text/plain": [
       "<pandas.io.formats.style.Styler at 0x603a0b8>"
      ]
     },
     "execution_count": 3,
     "metadata": {},
     "output_type": "execute_result"
    }
   ],
   "source": [
    "df.head().style.background_gradient(cmap='Blues')"
   ]
  },
  {
   "cell_type": "code",
   "execution_count": 4,
   "id": "finnish-pottery",
   "metadata": {},
   "outputs": [
    {
     "data": {
      "text/plain": [
       "(2227, 3)"
      ]
     },
     "execution_count": 4,
     "metadata": {},
     "output_type": "execute_result"
    }
   ],
   "source": [
    "df.shape"
   ]
  },
  {
   "cell_type": "code",
   "execution_count": 5,
   "id": "administrative-buddy",
   "metadata": {},
   "outputs": [
    {
     "data": {
      "text/plain": [
       "Index(['x1', 'x2', 'y'], dtype='object')"
      ]
     },
     "execution_count": 5,
     "metadata": {},
     "output_type": "execute_result"
    }
   ],
   "source": [
    "col_names = df.columns\n",
    "\n",
    "col_names"
   ]
  },
  {
   "cell_type": "code",
   "execution_count": 6,
   "id": "japanese-hampshire",
   "metadata": {},
   "outputs": [
    {
     "name": "stdout",
     "output_type": "stream",
     "text": [
      "<class 'pandas.core.frame.DataFrame'>\n",
      "RangeIndex: 2227 entries, 0 to 2226\n",
      "Data columns (total 3 columns):\n",
      " #   Column  Non-Null Count  Dtype  \n",
      "---  ------  --------------  -----  \n",
      " 0   x1      2222 non-null   float64\n",
      " 1   x2      2224 non-null   float64\n",
      " 2   y       2227 non-null   int64  \n",
      "dtypes: float64(2), int64(1)\n",
      "memory usage: 52.3 KB\n"
     ]
    }
   ],
   "source": [
    "df.info()"
   ]
  },
  {
   "cell_type": "code",
   "execution_count": 7,
   "id": "broad-instrumentation",
   "metadata": {},
   "outputs": [
    {
     "data": {
      "text/html": [
       "<div>\n",
       "<style scoped>\n",
       "    .dataframe tbody tr th:only-of-type {\n",
       "        vertical-align: middle;\n",
       "    }\n",
       "\n",
       "    .dataframe tbody tr th {\n",
       "        vertical-align: top;\n",
       "    }\n",
       "\n",
       "    .dataframe thead th {\n",
       "        text-align: right;\n",
       "    }\n",
       "</style>\n",
       "<table border=\"1\" class=\"dataframe\">\n",
       "  <thead>\n",
       "    <tr style=\"text-align: right;\">\n",
       "      <th></th>\n",
       "      <th>x1</th>\n",
       "      <th>x2</th>\n",
       "      <th>y</th>\n",
       "    </tr>\n",
       "  </thead>\n",
       "  <tbody>\n",
       "    <tr>\n",
       "      <th>count</th>\n",
       "      <td>2222.000000</td>\n",
       "      <td>2.224000e+03</td>\n",
       "      <td>2227.000000</td>\n",
       "    </tr>\n",
       "    <tr>\n",
       "      <th>mean</th>\n",
       "      <td>-4.818766</td>\n",
       "      <td>8.947626e+04</td>\n",
       "      <td>0.442299</td>\n",
       "    </tr>\n",
       "    <tr>\n",
       "      <th>std</th>\n",
       "      <td>74.939909</td>\n",
       "      <td>2.983323e+06</td>\n",
       "      <td>0.496771</td>\n",
       "    </tr>\n",
       "    <tr>\n",
       "      <th>min</th>\n",
       "      <td>-134.369160</td>\n",
       "      <td>-1.348761e+02</td>\n",
       "      <td>0.000000</td>\n",
       "    </tr>\n",
       "    <tr>\n",
       "      <th>25%</th>\n",
       "      <td>-71.757030</td>\n",
       "      <td>-8.012983e+01</td>\n",
       "      <td>0.000000</td>\n",
       "    </tr>\n",
       "    <tr>\n",
       "      <th>50%</th>\n",
       "      <td>-9.836555</td>\n",
       "      <td>-1.046151e+00</td>\n",
       "      <td>0.000000</td>\n",
       "    </tr>\n",
       "    <tr>\n",
       "      <th>75%</th>\n",
       "      <td>59.813962</td>\n",
       "      <td>6.389086e+01</td>\n",
       "      <td>1.000000</td>\n",
       "    </tr>\n",
       "    <tr>\n",
       "      <th>max</th>\n",
       "      <td>134.508687</td>\n",
       "      <td>1.000000e+08</td>\n",
       "      <td>1.000000</td>\n",
       "    </tr>\n",
       "  </tbody>\n",
       "</table>\n",
       "</div>"
      ],
      "text/plain": [
       "                x1            x2            y\n",
       "count  2222.000000  2.224000e+03  2227.000000\n",
       "mean     -4.818766  8.947626e+04     0.442299\n",
       "std      74.939909  2.983323e+06     0.496771\n",
       "min    -134.369160 -1.348761e+02     0.000000\n",
       "25%     -71.757030 -8.012983e+01     0.000000\n",
       "50%      -9.836555 -1.046151e+00     0.000000\n",
       "75%      59.813962  6.389086e+01     1.000000\n",
       "max     134.508687  1.000000e+08     1.000000"
      ]
     },
     "execution_count": 7,
     "metadata": {},
     "output_type": "execute_result"
    }
   ],
   "source": [
    "df.describe()"
   ]
  },
  {
   "cell_type": "code",
   "execution_count": 8,
   "id": "radical-expansion",
   "metadata": {},
   "outputs": [
    {
     "data": {
      "text/plain": [
       "0"
      ]
     },
     "execution_count": 8,
     "metadata": {},
     "output_type": "execute_result"
    }
   ],
   "source": [
    "df['y'].isnull().sum()"
   ]
  },
  {
   "cell_type": "code",
   "execution_count": 9,
   "id": "retained-think",
   "metadata": {},
   "outputs": [
    {
     "data": {
      "text/plain": [
       "2"
      ]
     },
     "execution_count": 9,
     "metadata": {},
     "output_type": "execute_result"
    }
   ],
   "source": [
    "df['y'].nunique()"
   ]
  },
  {
   "cell_type": "code",
   "execution_count": 10,
   "id": "compound-construction",
   "metadata": {},
   "outputs": [
    {
     "data": {
      "text/plain": [
       "array([1, 0], dtype=int64)"
      ]
     },
     "execution_count": 10,
     "metadata": {},
     "output_type": "execute_result"
    }
   ],
   "source": [
    "df['y'].unique()"
   ]
  },
  {
   "cell_type": "code",
   "execution_count": 11,
   "id": "gorgeous-desert",
   "metadata": {},
   "outputs": [
    {
     "data": {
      "text/plain": [
       "0    1242\n",
       "1     985\n",
       "Name: y, dtype: int64"
      ]
     },
     "execution_count": 11,
     "metadata": {},
     "output_type": "execute_result"
    }
   ],
   "source": [
    "df['y'].value_counts()"
   ]
  },
  {
   "cell_type": "code",
   "execution_count": 12,
   "id": "bearing-plain",
   "metadata": {},
   "outputs": [
    {
     "data": {
      "text/plain": [
       "0    0.557701\n",
       "1    0.442299\n",
       "Name: y, dtype: float64"
      ]
     },
     "execution_count": 12,
     "metadata": {},
     "output_type": "execute_result"
    }
   ],
   "source": [
    "df['y'].value_counts()/len(df)"
   ]
  },
  {
   "cell_type": "code",
   "execution_count": 13,
   "id": "offensive-century",
   "metadata": {},
   "outputs": [
    {
     "data": {
      "image/png": "[encoded data removed]",
      "text/plain": [
       "<Figure size 1296x432 with 2 Axes>"
      ]
     },
     "metadata": {
      "needs_background": "light"
     },
     "output_type": "display_data"
    }
   ],
   "source": [
    "f, ax  = plt.subplots(1,2,figsize = (18,6))\n",
    "sns.countplot(df['y'],ax=ax[0],palette = 'bright',alpha=0.7)\n",
    "\n",
    "loan_status_count = df['y'].value_counts(normalize=True)\n",
    "loan_status_count.plot.pie(autopct=\"%.2f%%\",explode = [0,0.2],ax=ax[1])\n",
    "plt.title('% of y_value')\n",
    "plt.show()"
   ]
  },
  {
   "cell_type": "code",
   "execution_count": 14,
   "id": "fancy-berry",
   "metadata": {},
   "outputs": [
    {
     "data": {
      "image/png": "[encoded data removed]",
      "text/plain": [
       "<Figure size 432x576 with 1 Axes>"
      ]
     },
     "metadata": {
      "needs_background": "light"
     },
     "output_type": "display_data"
    }
   ],
   "source": [
    "f, ax = plt.subplots(figsize=(6, 8))\n",
    "ax = sns.countplot(x=\"y\", data=df, palette=\"Set1\")\n",
    "plt.show()"
   ]
  },
  {
   "cell_type": "code",
   "execution_count": 15,
   "id": "wooden-deficit",
   "metadata": {},
   "outputs": [
    {
     "data": {
      "image/png": "[encoded data removed]",
      "text/plain": [
       "<Figure size 576x288 with 1 Axes>"
      ]
     },
     "metadata": {
      "needs_background": "light"
     },
     "output_type": "display_data"
    }
   ],
   "source": [
    "f, ax = plt.subplots(figsize=(8, 4))\n",
    "ax = sns.countplot(y=\"y\", data=df, palette=\"Set1\")\n",
    "plt.show()"
   ]
  },
  {
   "cell_type": "code",
   "execution_count": 16,
   "id": "silver-translator",
   "metadata": {},
   "outputs": [
    {
     "name": "stdout",
     "output_type": "stream",
     "text": [
      "There are 0 categorical variables\n",
      "\n",
      "The categorical variables are : []\n"
     ]
    }
   ],
   "source": [
    "# find categorical variables\n",
    "\n",
    "categorical = [var for var in df.columns if df[var].dtype=='O']\n",
    "\n",
    "print('There are {} categorical variables\\n'.format(len(categorical)))\n",
    "\n",
    "print('The categorical variables are :', categorical)"
   ]
  },
  {
   "cell_type": "code",
   "execution_count": 17,
   "id": "prescribed-translator",
   "metadata": {},
   "outputs": [
    {
     "name": "stdout",
     "output_type": "stream",
     "text": [
      "There are 3 numerical variables\n",
      "\n",
      "The numerical variables are : ['x1', 'x2', 'y']\n"
     ]
    }
   ],
   "source": [
    "# find numerical variables\n",
    "\n",
    "numerical = [var for var in df.columns if df[var].dtype!='O']\n",
    "\n",
    "print('There are {} numerical variables\\n'.format(len(numerical)))\n",
    "\n",
    "print('The numerical variables are :', numerical)"
   ]
  },
  {
   "cell_type": "code",
   "execution_count": 18,
   "id": "animated-assault",
   "metadata": {},
   "outputs": [
    {
     "data": {
      "text/plain": [
       "x1    5\n",
       "x2    3\n",
       "y     0\n",
       "dtype: int64"
      ]
     },
     "execution_count": 18,
     "metadata": {},
     "output_type": "execute_result"
    }
   ],
   "source": [
    "# check missing values in numerical variables\n",
    "\n",
    "df[numerical].isnull().sum()"
   ]
  },
  {
   "cell_type": "markdown",
   "id": "experimental-allocation",
   "metadata": {},
   "source": [
    "# Outliers in numerical variables"
   ]
  },
  {
   "cell_type": "code",
   "execution_count": 19,
   "id": "coupled-approval",
   "metadata": {},
   "outputs": [
    {
     "name": "stdout",
     "output_type": "stream",
     "text": [
      "           x1          x2       y\n",
      "count  2222.0      2224.0  2227.0\n",
      "mean     -5.0     89476.0     0.0\n",
      "std      75.0   2983323.0     0.0\n",
      "min    -134.0      -135.0     0.0\n",
      "25%     -72.0       -80.0     0.0\n",
      "50%     -10.0        -1.0     0.0\n",
      "75%      60.0        64.0     1.0\n",
      "max     135.0  99999999.0     1.0 2\n"
     ]
    }
   ],
   "source": [
    "# view summary statistics in numerical variables\n",
    "\n",
    "print(round(df[numerical].describe()),2)"
   ]
  },
  {
   "cell_type": "code",
   "execution_count": 20,
   "id": "extra-pixel",
   "metadata": {},
   "outputs": [
    {
     "data": {
      "image/png": "[encoded data removed]",
      "text/plain": [
       "<Figure size 432x288 with 1 Axes>"
      ]
     },
     "metadata": {
      "needs_background": "light"
     },
     "output_type": "display_data"
    },
    {
     "data": {
      "image/png": "[encoded data removed]",
      "text/plain": [
       "<Figure size 864x576 with 1 Axes>"
      ]
     },
     "metadata": {
      "needs_background": "light"
     },
     "output_type": "display_data"
    },
    {
     "data": {
      "image/png": "[encoded data removed]",
      "text/plain": [
       "<Figure size 864x576 with 1 Axes>"
      ]
     },
     "metadata": {
      "needs_background": "light"
     },
     "output_type": "display_data"
    },
    {
     "data": {
      "text/plain": [
       "<Figure size 864x576 with 0 Axes>"
      ]
     },
     "metadata": {},
     "output_type": "display_data"
    }
   ],
   "source": [
    "for feature in numerical:\n",
    "    df=df.copy()\n",
    "    sns.boxplot(df[feature])\n",
    "    plt.title(feature)\n",
    "    plt.figure(figsize=(12,8))"
   ]
  },
  {
   "cell_type": "code",
   "execution_count": 21,
   "id": "scheduled-limitation",
   "metadata": {},
   "outputs": [
    {
     "data": {
      "text/plain": [
       "Text(0, 0.5, 'y')"
      ]
     },
     "execution_count": 21,
     "metadata": {},
     "output_type": "execute_result"
    },
    {
     "data": {
      "image/png": "[encoded data removed]",
      "text/plain": [
       "<Figure size 1080x720 with 2 Axes>"
      ]
     },
     "metadata": {
      "needs_background": "light"
     },
     "output_type": "display_data"
    }
   ],
   "source": [
    "\n",
    "plt.figure(figsize=(15,10))\n",
    "\n",
    "\n",
    "plt.subplot(2, 2, 1)\n",
    "fig = df.x1.hist(bins=10)\n",
    "fig.set_xlabel('x1')\n",
    "fig.set_ylabel('y')\n",
    "\n",
    "\n",
    "plt.subplot(2, 2, 2)\n",
    "fig = df.x2.hist(bins=10)\n",
    "fig.set_xlabel('x2')\n",
    "fig.set_ylabel('y')"
   ]
  },
  {
   "cell_type": "code",
   "execution_count": 22,
   "id": "sunset-extent",
   "metadata": {},
   "outputs": [
    {
     "name": "stdout",
     "output_type": "stream",
     "text": [
      "Rainfall outliers are values < -466.4700072950001 or > 454.5269392425001\n"
     ]
    }
   ],
   "source": [
    "# find outliers for  variable\n",
    "\n",
    "IQR = df.x1.quantile(0.75) - df.x1.quantile(0.25)\n",
    "Lower_fence = df.x1.quantile(0.25) - (IQR * 3)\n",
    "Upper_fence = df.x1.quantile(0.75) + (IQR * 3)\n",
    "print('Rainfall outliers are values < {lowerboundary} or > {upperboundary}'.format(lowerboundary=Lower_fence, upperboundary=Upper_fence))"
   ]
  },
  {
   "cell_type": "code",
   "execution_count": 23,
   "id": "organizational-extent",
   "metadata": {},
   "outputs": [
    {
     "name": "stdout",
     "output_type": "stream",
     "text": [
      "Rainfall outliers are values < -512.1919057275 or > 495.9529403899999\n"
     ]
    }
   ],
   "source": [
    "# find outlier variable\n",
    "\n",
    "IQR = df.x2.quantile(0.75) - df.x2.quantile(0.25)\n",
    "Lower_fence = df.x2.quantile(0.25) - (IQR * 3)\n",
    "Upper_fence = df.x2.quantile(0.75) + (IQR * 3)\n",
    "print('Rainfall outliers are values < {lowerboundary} or > {upperboundary}'.format(lowerboundary=Lower_fence, upperboundary=Upper_fence))"
   ]
  },
  {
   "cell_type": "code",
   "execution_count": 24,
   "id": "differential-australian",
   "metadata": {},
   "outputs": [],
   "source": [
    "correlation = df.corr()"
   ]
  },
  {
   "cell_type": "code",
   "execution_count": 25,
   "id": "photographic-raising",
   "metadata": {},
   "outputs": [
    {
     "data": {
      "image/png": "[encoded data removed]",
      "text/plain": [
       "<Figure size 1152x864 with 2 Axes>"
      ]
     },
     "metadata": {
      "needs_background": "light"
     },
     "output_type": "display_data"
    }
   ],
   "source": [
    "plt.figure(figsize=(16,12))\n",
    "plt.title('Correlation Heatmap  Dataset')\n",
    "ax = sns.heatmap(correlation, square=True, annot=True, fmt='.2f', linecolor='white')\n",
    "ax.set_xticklabels(ax.get_xticklabels(), rotation=90)\n",
    "ax.set_yticklabels(ax.get_yticklabels(), rotation=30)           \n",
    "plt.show()"
   ]
  },
  {
   "cell_type": "code",
   "execution_count": 26,
   "id": "first-outside",
   "metadata": {},
   "outputs": [],
   "source": [
    "num_var = ['x1','x2'] "
   ]
  },
  {
   "cell_type": "code",
   "execution_count": 27,
   "id": "upset-signature",
   "metadata": {},
   "outputs": [],
   "source": [
    "#sns.pairplot(df[num_var], kind='scatter', diag_kind='hist', palette='Rainbow')\n",
    "#plt.show()"
   ]
  },
  {
   "cell_type": "code",
   "execution_count": 28,
   "id": "russian-wallace",
   "metadata": {},
   "outputs": [],
   "source": [
    "X = df.drop(['y'], axis=1)\n",
    "\n",
    "y = df['y']"
   ]
  },
  {
   "cell_type": "code",
   "execution_count": 29,
   "id": "julian-national",
   "metadata": {},
   "outputs": [],
   "source": [
    "# split X and y into training and testing sets\n",
    "\n",
    "from sklearn.model_selection import train_test_split\n",
    "\n",
    "X_train, X_test, y_train, y_test = train_test_split(X, y, test_size = 0.2, random_state = 0)"
   ]
  },
  {
   "cell_type": "code",
   "execution_count": 30,
   "id": "other-orleans",
   "metadata": {},
   "outputs": [
    {
     "data": {
      "text/plain": [
       "((1781, 2), (446, 2))"
      ]
     },
     "execution_count": 30,
     "metadata": {},
     "output_type": "execute_result"
    }
   ],
   "source": [
    "# check the shape of X_train and X_test\n",
    "\n",
    "X_train.shape, X_test.shape"
   ]
  },
  {
   "cell_type": "code",
   "execution_count": 31,
   "id": "waiting-garage",
   "metadata": {},
   "outputs": [
    {
     "data": {
      "text/plain": [
       "(1781, 2)"
      ]
     },
     "execution_count": 31,
     "metadata": {},
     "output_type": "execute_result"
    }
   ],
   "source": [
    "X_train.shape"
   ]
  },
  {
   "cell_type": "code",
   "execution_count": 32,
   "id": "detailed-structure",
   "metadata": {},
   "outputs": [
    {
     "data": {
      "text/plain": [
       "(446,)"
      ]
     },
     "execution_count": 32,
     "metadata": {},
     "output_type": "execute_result"
    }
   ],
   "source": [
    " y_test.shape"
   ]
  },
  {
   "cell_type": "code",
   "execution_count": 33,
   "id": "hungarian-brother",
   "metadata": {},
   "outputs": [
    {
     "data": {
      "text/plain": [
       "x1    float64\n",
       "x2    float64\n",
       "dtype: object"
      ]
     },
     "execution_count": 33,
     "metadata": {},
     "output_type": "execute_result"
    }
   ],
   "source": [
    "# check data types in X_train\n",
    "\n",
    "X_train.dtypes"
   ]
  },
  {
   "cell_type": "code",
   "execution_count": 34,
   "id": "military-portland",
   "metadata": {},
   "outputs": [
    {
     "data": {
      "text/plain": [
       "['x1', 'x2']"
      ]
     },
     "execution_count": 34,
     "metadata": {},
     "output_type": "execute_result"
    }
   ],
   "source": [
    "# display numerical variables\n",
    "\n",
    "numerical = [col for col in X_train.columns if X_train[col].dtypes != 'O']\n",
    "\n",
    "numerical"
   ]
  },
  {
   "cell_type": "code",
   "execution_count": 35,
   "id": "brilliant-mercury",
   "metadata": {},
   "outputs": [
    {
     "data": {
      "text/plain": [
       "x1    3\n",
       "x2    3\n",
       "dtype: int64"
      ]
     },
     "execution_count": 35,
     "metadata": {},
     "output_type": "execute_result"
    }
   ],
   "source": [
    "# check missing values in numerical variables in X_train\n",
    "\n",
    "X_train[numerical].isnull().sum()"
   ]
  },
  {
   "cell_type": "code",
   "execution_count": 36,
   "id": "mathematical-massachusetts",
   "metadata": {},
   "outputs": [
    {
     "data": {
      "text/plain": [
       "x1    2\n",
       "x2    0\n",
       "dtype: int64"
      ]
     },
     "execution_count": 36,
     "metadata": {},
     "output_type": "execute_result"
    }
   ],
   "source": [
    "# check missing values in numerical variables in X_test\n",
    "\n",
    "X_test[numerical].isnull().sum()"
   ]
  },
  {
   "cell_type": "code",
   "execution_count": 37,
   "id": "choice-overview",
   "metadata": {},
   "outputs": [
    {
     "name": "stdout",
     "output_type": "stream",
     "text": [
      "x1 0.0017\n",
      "x2 0.0017\n"
     ]
    }
   ],
   "source": [
    "# print percentage of missing values in the numerical variables in training set\n",
    "\n",
    "for col in numerical:\n",
    "    if X_train[col].isnull().mean()>0:\n",
    "        print(col, round(X_train[col].isnull().mean(),4))"
   ]
  },
  {
   "cell_type": "code",
   "execution_count": 38,
   "id": "restricted-leather",
   "metadata": {},
   "outputs": [],
   "source": [
    "# impute missing values in X_train and X_test with respective column median in X_train\n",
    "\n",
    "for df1 in [X_train, X_test]:\n",
    "    for col in numerical:\n",
    "        col_median=X_train[col].median()\n",
    "        df1[col].fillna(col_median, inplace=True)   "
   ]
  },
  {
   "cell_type": "code",
   "execution_count": 39,
   "id": "single-bathroom",
   "metadata": {},
   "outputs": [
    {
     "data": {
      "text/plain": [
       "x1    0\n",
       "x2    0\n",
       "dtype: int64"
      ]
     },
     "execution_count": 39,
     "metadata": {},
     "output_type": "execute_result"
    }
   ],
   "source": [
    "# check again missing values in numerical variables in X_train\n",
    "\n",
    "X_train[numerical].isnull().sum()"
   ]
  },
  {
   "cell_type": "code",
   "execution_count": 40,
   "id": "likely-hammer",
   "metadata": {},
   "outputs": [
    {
     "data": {
      "text/plain": [
       "x1    0\n",
       "x2    0\n",
       "dtype: int64"
      ]
     },
     "execution_count": 40,
     "metadata": {},
     "output_type": "execute_result"
    }
   ],
   "source": [
    "# check missing values in numerical variables in X_test\n",
    "\n",
    "X_test[numerical].isnull().sum()"
   ]
  },
  {
   "cell_type": "code",
   "execution_count": 41,
   "id": "cubic-ordering",
   "metadata": {},
   "outputs": [
    {
     "data": {
      "text/plain": [
       "x1    0\n",
       "x2    0\n",
       "dtype: int64"
      ]
     },
     "execution_count": 41,
     "metadata": {},
     "output_type": "execute_result"
    }
   ],
   "source": [
    "# check missing values in X_train\n",
    "\n",
    "X_train.isnull().sum()"
   ]
  },
  {
   "cell_type": "code",
   "execution_count": 42,
   "id": "sealed-expansion",
   "metadata": {},
   "outputs": [
    {
     "data": {
      "text/plain": [
       "x1    0\n",
       "x2    0\n",
       "dtype: int64"
      ]
     },
     "execution_count": 42,
     "metadata": {},
     "output_type": "execute_result"
    }
   ],
   "source": [
    "# check missing values in X_test\n",
    "\n",
    "X_test.isnull().sum()"
   ]
  },
  {
   "cell_type": "code",
   "execution_count": 43,
   "id": "vietnamese-discovery",
   "metadata": {},
   "outputs": [],
   "source": [
    "def max_value(df3, variable, top):\n",
    "    return np.where(df3[variable]>top, top, df3[variable])\n",
    "\n",
    "for df3 in [X_train, X_test]:\n",
    "    df3['x1'] = max_value(df3, 'x1', 454.52)\n",
    "    df3['x2'] = max_value(df3, 'x2',495.95)"
   ]
  },
  {
   "cell_type": "code",
   "execution_count": 44,
   "id": "personalized-witness",
   "metadata": {},
   "outputs": [
    {
     "data": {
      "text/plain": [
       "(134.5086874, 134.1779604)"
      ]
     },
     "execution_count": 44,
     "metadata": {},
     "output_type": "execute_result"
    }
   ],
   "source": [
    "X_train.x1.max(), X_test.x1.max()"
   ]
  },
  {
   "cell_type": "code",
   "execution_count": 45,
   "id": "strategic-convert",
   "metadata": {},
   "outputs": [
    {
     "data": {
      "text/plain": [
       "(495.95, 134.9297479)"
      ]
     },
     "execution_count": 45,
     "metadata": {},
     "output_type": "execute_result"
    }
   ],
   "source": [
    "X_train.x2.max(), X_test.x2.max()"
   ]
  },
  {
   "cell_type": "code",
   "execution_count": 46,
   "id": "confirmed-object",
   "metadata": {},
   "outputs": [
    {
     "data": {
      "text/html": [
       "<div>\n",
       "<style scoped>\n",
       "    .dataframe tbody tr th:only-of-type {\n",
       "        vertical-align: middle;\n",
       "    }\n",
       "\n",
       "    .dataframe tbody tr th {\n",
       "        vertical-align: top;\n",
       "    }\n",
       "\n",
       "    .dataframe thead th {\n",
       "        text-align: right;\n",
       "    }\n",
       "</style>\n",
       "<table border=\"1\" class=\"dataframe\">\n",
       "  <thead>\n",
       "    <tr style=\"text-align: right;\">\n",
       "      <th></th>\n",
       "      <th>x1</th>\n",
       "      <th>x2</th>\n",
       "    </tr>\n",
       "  </thead>\n",
       "  <tbody>\n",
       "    <tr>\n",
       "      <th>count</th>\n",
       "      <td>1781.000000</td>\n",
       "      <td>1781.000000</td>\n",
       "    </tr>\n",
       "    <tr>\n",
       "      <th>mean</th>\n",
       "      <td>-4.051562</td>\n",
       "      <td>-6.041393</td>\n",
       "    </tr>\n",
       "    <tr>\n",
       "      <th>std</th>\n",
       "      <td>74.286338</td>\n",
       "      <td>80.592979</td>\n",
       "    </tr>\n",
       "    <tr>\n",
       "      <th>min</th>\n",
       "      <td>-134.369160</td>\n",
       "      <td>-134.876132</td>\n",
       "    </tr>\n",
       "    <tr>\n",
       "      <th>25%</th>\n",
       "      <td>-70.258156</td>\n",
       "      <td>-78.587280</td>\n",
       "    </tr>\n",
       "    <tr>\n",
       "      <th>50%</th>\n",
       "      <td>-8.940951</td>\n",
       "      <td>-0.440219</td>\n",
       "    </tr>\n",
       "    <tr>\n",
       "      <th>75%</th>\n",
       "      <td>59.633331</td>\n",
       "      <td>62.513342</td>\n",
       "    </tr>\n",
       "    <tr>\n",
       "      <th>max</th>\n",
       "      <td>134.508687</td>\n",
       "      <td>495.950000</td>\n",
       "    </tr>\n",
       "  </tbody>\n",
       "</table>\n",
       "</div>"
      ],
      "text/plain": [
       "                x1           x2\n",
       "count  1781.000000  1781.000000\n",
       "mean     -4.051562    -6.041393\n",
       "std      74.286338    80.592979\n",
       "min    -134.369160  -134.876132\n",
       "25%     -70.258156   -78.587280\n",
       "50%      -8.940951    -0.440219\n",
       "75%      59.633331    62.513342\n",
       "max     134.508687   495.950000"
      ]
     },
     "execution_count": 46,
     "metadata": {},
     "output_type": "execute_result"
    }
   ],
   "source": [
    "X_train[numerical].describe()"
   ]
  },
  {
   "cell_type": "code",
   "execution_count": 47,
   "id": "conscious-serial",
   "metadata": {},
   "outputs": [
    {
     "data": {
      "text/html": [
       "<div>\n",
       "<style scoped>\n",
       "    .dataframe tbody tr th:only-of-type {\n",
       "        vertical-align: middle;\n",
       "    }\n",
       "\n",
       "    .dataframe tbody tr th {\n",
       "        vertical-align: top;\n",
       "    }\n",
       "\n",
       "    .dataframe thead th {\n",
       "        text-align: right;\n",
       "    }\n",
       "</style>\n",
       "<table border=\"1\" class=\"dataframe\">\n",
       "  <thead>\n",
       "    <tr style=\"text-align: right;\">\n",
       "      <th></th>\n",
       "      <th>x1</th>\n",
       "      <th>x2</th>\n",
       "    </tr>\n",
       "  </thead>\n",
       "  <tbody>\n",
       "    <tr>\n",
       "      <th>count</th>\n",
       "      <td>446.000000</td>\n",
       "      <td>446.000000</td>\n",
       "    </tr>\n",
       "    <tr>\n",
       "      <th>mean</th>\n",
       "      <td>-7.928636</td>\n",
       "      <td>-6.831421</td>\n",
       "    </tr>\n",
       "    <tr>\n",
       "      <th>std</th>\n",
       "      <td>77.095855</td>\n",
       "      <td>83.526091</td>\n",
       "    </tr>\n",
       "    <tr>\n",
       "      <th>min</th>\n",
       "      <td>-133.793105</td>\n",
       "      <td>-134.631502</td>\n",
       "    </tr>\n",
       "    <tr>\n",
       "      <th>25%</th>\n",
       "      <td>-80.281725</td>\n",
       "      <td>-86.134034</td>\n",
       "    </tr>\n",
       "    <tr>\n",
       "      <th>50%</th>\n",
       "      <td>-10.658437</td>\n",
       "      <td>-2.816089</td>\n",
       "    </tr>\n",
       "    <tr>\n",
       "      <th>75%</th>\n",
       "      <td>59.355671</td>\n",
       "      <td>69.679548</td>\n",
       "    </tr>\n",
       "    <tr>\n",
       "      <th>max</th>\n",
       "      <td>134.177960</td>\n",
       "      <td>134.929748</td>\n",
       "    </tr>\n",
       "  </tbody>\n",
       "</table>\n",
       "</div>"
      ],
      "text/plain": [
       "               x1          x2\n",
       "count  446.000000  446.000000\n",
       "mean    -7.928636   -6.831421\n",
       "std     77.095855   83.526091\n",
       "min   -133.793105 -134.631502\n",
       "25%    -80.281725  -86.134034\n",
       "50%    -10.658437   -2.816089\n",
       "75%     59.355671   69.679548\n",
       "max    134.177960  134.929748"
      ]
     },
     "execution_count": 47,
     "metadata": {},
     "output_type": "execute_result"
    }
   ],
   "source": [
    "X_test[numerical].describe()"
   ]
  },
  {
   "cell_type": "code",
   "execution_count": 48,
   "id": "applicable-atlantic",
   "metadata": {},
   "outputs": [],
   "source": [
    "cols = X_train.columns"
   ]
  },
  {
   "cell_type": "code",
   "execution_count": 49,
   "id": "noticed-mixer",
   "metadata": {},
   "outputs": [],
   "source": [
    "from sklearn.preprocessing import MinMaxScaler\n",
    "\n",
    "scaler = MinMaxScaler()\n",
    "\n",
    "X_train = scaler.fit_transform(X_train)\n",
    "\n",
    "X_test = scaler.transform(X_test)"
   ]
  },
  {
   "cell_type": "code",
   "execution_count": 50,
   "id": "martial-eating",
   "metadata": {},
   "outputs": [],
   "source": [
    "X_train = pd.DataFrame(X_train, columns=[cols])"
   ]
  },
  {
   "cell_type": "code",
   "execution_count": 51,
   "id": "cutting-shipping",
   "metadata": {},
   "outputs": [],
   "source": [
    "X_test = pd.DataFrame(X_test, columns=[cols])"
   ]
  },
  {
   "cell_type": "code",
   "execution_count": 52,
   "id": "intermediate-fifteen",
   "metadata": {},
   "outputs": [
    {
     "data": {
      "text/html": [
       "<div>\n",
       "<style scoped>\n",
       "    .dataframe tbody tr th:only-of-type {\n",
       "        vertical-align: middle;\n",
       "    }\n",
       "\n",
       "    .dataframe tbody tr th {\n",
       "        vertical-align: top;\n",
       "    }\n",
       "\n",
       "    .dataframe thead tr th {\n",
       "        text-align: left;\n",
       "    }\n",
       "</style>\n",
       "<table border=\"1\" class=\"dataframe\">\n",
       "  <thead>\n",
       "    <tr>\n",
       "      <th></th>\n",
       "      <th>x1</th>\n",
       "      <th>x2</th>\n",
       "    </tr>\n",
       "  </thead>\n",
       "  <tbody>\n",
       "    <tr>\n",
       "      <th>count</th>\n",
       "      <td>1781.000000</td>\n",
       "      <td>1781.000000</td>\n",
       "    </tr>\n",
       "    <tr>\n",
       "      <th>mean</th>\n",
       "      <td>0.484672</td>\n",
       "      <td>0.204232</td>\n",
       "    </tr>\n",
       "    <tr>\n",
       "      <th>std</th>\n",
       "      <td>0.276283</td>\n",
       "      <td>0.127758</td>\n",
       "    </tr>\n",
       "    <tr>\n",
       "      <th>min</th>\n",
       "      <td>0.000000</td>\n",
       "      <td>0.000000</td>\n",
       "    </tr>\n",
       "    <tr>\n",
       "      <th>25%</th>\n",
       "      <td>0.238439</td>\n",
       "      <td>0.089230</td>\n",
       "    </tr>\n",
       "    <tr>\n",
       "      <th>50%</th>\n",
       "      <td>0.466488</td>\n",
       "      <td>0.213111</td>\n",
       "    </tr>\n",
       "    <tr>\n",
       "      <th>75%</th>\n",
       "      <td>0.721526</td>\n",
       "      <td>0.312906</td>\n",
       "    </tr>\n",
       "    <tr>\n",
       "      <th>max</th>\n",
       "      <td>1.000000</td>\n",
       "      <td>1.000000</td>\n",
       "    </tr>\n",
       "  </tbody>\n",
       "</table>\n",
       "</div>"
      ],
      "text/plain": [
       "                x1           x2\n",
       "count  1781.000000  1781.000000\n",
       "mean      0.484672     0.204232\n",
       "std       0.276283     0.127758\n",
       "min       0.000000     0.000000\n",
       "25%       0.238439     0.089230\n",
       "50%       0.466488     0.213111\n",
       "75%       0.721526     0.312906\n",
       "max       1.000000     1.000000"
      ]
     },
     "execution_count": 52,
     "metadata": {},
     "output_type": "execute_result"
    }
   ],
   "source": [
    "X_train.describe()"
   ]
  },
  {
   "cell_type": "code",
   "execution_count": 53,
   "id": "protecting-region",
   "metadata": {},
   "outputs": [
    {
     "data": {
      "text/plain": [
       "LogisticRegression(random_state=0, solver='liblinear')"
      ]
     },
     "execution_count": 53,
     "metadata": {},
     "output_type": "execute_result"
    }
   ],
   "source": [
    "# train a logistic regression model on the training set\n",
    "from sklearn.linear_model import LogisticRegression\n",
    "\n",
    "\n",
    "# instantiate the model\n",
    "logreg = LogisticRegression(solver='liblinear', random_state=0)\n",
    "\n",
    "\n",
    "# fit the model\n",
    "logreg.fit(X_train, y_train)"
   ]
  },
  {
   "cell_type": "code",
   "execution_count": 54,
   "id": "about-guard",
   "metadata": {},
   "outputs": [
    {
     "data": {
      "text/plain": [
       "array([0, 0, 0, 1, 0, 1, 0, 0, 0, 0, 0, 0, 0, 0, 0, 0, 0, 1, 0, 0, 0, 0,\n",
       "       0, 0, 0, 0, 0, 0, 0, 0, 0, 0, 1, 1, 0, 0, 1, 0, 0, 1, 0, 0, 0, 1,\n",
       "       1, 0, 0, 0, 0, 0, 0, 1, 0, 1, 0, 1, 0, 0, 0, 0, 0, 0, 0, 0, 0, 0,\n",
       "       0, 0, 0, 1, 0, 0, 0, 0, 0, 0, 0, 0, 0, 0, 0, 1, 1, 1, 0, 1, 0, 1,\n",
       "       1, 0, 0, 0, 0, 1, 0, 0, 0, 1, 0, 1, 0, 0, 0, 0, 1, 0, 1, 0, 0, 0,\n",
       "       0, 0, 1, 1, 0, 0, 1, 0, 0, 0, 0, 0, 0, 0, 0, 0, 0, 0, 0, 0, 0, 0,\n",
       "       0, 0, 0, 0, 0, 0, 1, 0, 0, 0, 0, 0, 0, 0, 0, 0, 0, 1, 0, 0, 1, 0,\n",
       "       0, 0, 0, 1, 0, 0, 1, 0, 0, 0, 0, 0, 0, 0, 0, 1, 0, 0, 0, 0, 0, 1,\n",
       "       0, 0, 1, 0, 0, 0, 0, 0, 0, 0, 0, 0, 0, 0, 1, 0, 0, 0, 0, 0, 0, 0,\n",
       "       0, 1, 0, 0, 0, 1, 0, 0, 0, 1, 0, 1, 0, 0, 0, 0, 0, 1, 0, 0, 0, 1,\n",
       "       0, 0, 0, 1, 1, 0, 0, 1, 0, 1, 0, 0, 0, 0, 0, 0, 0, 0, 0, 1, 0, 0,\n",
       "       0, 0, 0, 0, 0, 0, 0, 0, 0, 0, 0, 1, 0, 1, 0, 0, 0, 0, 0, 0, 0, 1,\n",
       "       0, 0, 0, 0, 0, 0, 0, 1, 0, 0, 0, 1, 0, 0, 0, 0, 0, 0, 0, 0, 0, 0,\n",
       "       1, 1, 0, 0, 1, 1, 0, 0, 0, 0, 0, 0, 0, 1, 0, 0, 0, 0, 1, 0, 0, 0,\n",
       "       0, 1, 0, 0, 0, 0, 0, 0, 0, 0, 1, 0, 0, 0, 0, 1, 0, 0, 0, 1, 0, 0,\n",
       "       0, 0, 1, 1, 1, 0, 0, 0, 0, 0, 0, 0, 0, 1, 0, 0, 0, 0, 1, 0, 0, 0,\n",
       "       1, 0, 0, 1, 0, 0, 0, 1, 0, 0, 1, 0, 0, 0, 0, 0, 0, 0, 0, 1, 0, 0,\n",
       "       0, 0, 0, 0, 0, 1, 0, 0, 0, 0, 0, 0, 0, 0, 0, 0, 1, 0, 0, 1, 0, 0,\n",
       "       0, 0, 0, 0, 0, 0, 0, 1, 0, 0, 0, 0, 0, 1, 0, 0, 0, 1, 0, 0, 0, 0,\n",
       "       1, 0, 0, 0, 1, 0, 1, 0, 0, 1, 0, 0, 0, 0, 0, 0, 1, 0, 0, 0, 0, 0,\n",
       "       0, 1, 1, 1, 0, 1], dtype=int64)"
      ]
     },
     "execution_count": 54,
     "metadata": {},
     "output_type": "execute_result"
    }
   ],
   "source": [
    "y_pred_test = logreg.predict(X_test)\n",
    "\n",
    "y_pred_test"
   ]
  },
  {
   "cell_type": "code",
   "execution_count": 55,
   "id": "twelve-spectacular",
   "metadata": {},
   "outputs": [
    {
     "data": {
      "text/plain": [
       "array([0.56034442, 0.6185759 , 0.57999094, 0.49853123, 0.54626412,\n",
       "       0.42889225, 0.6123772 , 0.53565208, 0.5898913 , 0.54114331,\n",
       "       0.53257193, 0.61852258, 0.70130872, 0.62207061, 0.65796407,\n",
       "       0.51006888, 0.51423068, 0.44628206, 0.5589614 , 0.5004654 ,\n",
       "       0.57772227, 0.50279855, 0.51946916, 0.59988036, 0.56192163,\n",
       "       0.55027092, 0.59731684, 0.59190695, 0.55383051, 0.62475585,\n",
       "       0.63441985, 0.64108991, 0.40450912, 0.44458507, 0.67885461,\n",
       "       0.51449577, 0.46819149, 0.62049429, 0.50883562, 0.48081074,\n",
       "       0.64226302, 0.52362639, 0.52161998, 0.44410978, 0.46508598,\n",
       "       0.51875607, 0.52553657, 0.51015573, 0.58812779, 0.59819574,\n",
       "       0.55992972, 0.46015197, 0.58674303, 0.46049639, 0.65037097,\n",
       "       0.48147975, 0.57730669, 0.66063083, 0.65555258, 0.58676327,\n",
       "       0.55219147, 0.64150539, 0.53042996, 0.64674972, 0.50444016,\n",
       "       0.5433657 , 0.52504182, 0.58439572, 0.52485441, 0.43013492,\n",
       "       0.68644097, 0.50461307, 0.54045257, 0.53423305, 0.59495047,\n",
       "       0.59361069, 0.63172965, 0.52625731, 0.5312981 , 0.55794048,\n",
       "       0.54912548, 0.47742536, 0.49288707, 0.46107687, 0.59901935,\n",
       "       0.47823161, 0.59025398, 0.46115781, 0.49183146, 0.62873409,\n",
       "       0.57685605, 0.66128781, 0.58957188, 0.43645235, 0.53295054,\n",
       "       0.57988524, 0.5860794 , 0.46230576, 0.5544032 , 0.43762703,\n",
       "       0.53767934, 0.55961961, 0.56756426, 0.69984235, 0.43250025,\n",
       "       0.51910456, 0.46960951, 0.63035716, 0.589528  , 0.63176574,\n",
       "       0.60171127, 0.51393393, 0.49319559, 0.41004415, 0.57411922,\n",
       "       0.56576461, 0.41550158, 0.51867859, 0.69522962, 0.58896072,\n",
       "       0.62948053, 0.62241227, 0.57280436, 0.59453537, 0.51180558,\n",
       "       0.53726535, 0.58682347, 0.62326894, 0.60349564, 0.55854704,\n",
       "       0.5013728 , 0.57044641, 0.58228773, 0.61539495, 0.58876202,\n",
       "       0.53310109, 0.5547122 , 0.52386616, 0.44763697, 0.67569883,\n",
       "       0.61645959, 0.53341764, 0.56864465, 0.55022154, 0.55364251,\n",
       "       0.56790666, 0.5914336 , 0.6017237 , 0.50277935, 0.41609509,\n",
       "       0.50294899, 0.66600726, 0.43520638, 0.55653571, 0.60861802,\n",
       "       0.54737592, 0.58098826, 0.49161518, 0.55157134, 0.5902248 ,\n",
       "       0.47376256, 0.541603  , 0.59364633, 0.68735305, 0.6582205 ,\n",
       "       0.5552299 , 0.59449488, 0.53456104, 0.67147497, 0.43988246,\n",
       "       0.50397974, 0.58979436, 0.69644118, 0.60528531, 0.53829437,\n",
       "       0.49867393, 0.55723853, 0.55314861, 0.49528228, 0.54332061,\n",
       "       0.61636581, 0.55717986, 0.70236933, 0.59818438, 0.59875147,\n",
       "       0.57671111, 0.65419424, 0.60517863, 0.5801909 , 0.67990466,\n",
       "       0.45735826, 0.55697431, 0.57311527, 0.58328251, 0.6341239 ,\n",
       "       0.61564238, 0.63667386, 0.53916641, 0.62293807, 0.47962525,\n",
       "       0.65950817, 0.63577827, 0.51549464, 0.42373915, 0.67241807,\n",
       "       0.52266539, 0.51738626, 0.43581027, 0.55931564, 0.42709802,\n",
       "       0.59851481, 0.55453689, 0.64485679, 0.58745638, 0.53767044,\n",
       "       0.43929723, 0.64853481, 0.5117996 , 0.60137042, 0.45147168,\n",
       "       0.59769721, 0.57644186, 0.6394562 , 0.42930916, 0.454963  ,\n",
       "       0.56136468, 0.60352569, 0.44740653, 0.5026957 , 0.42920417,\n",
       "       0.6198543 , 0.61531694, 0.60370691, 0.52832961, 0.56561152,\n",
       "       0.51916907, 0.53464212, 0.68947551, 0.57157784, 0.43580771,\n",
       "       0.65194986, 0.51885247, 0.53036197, 0.55471921, 0.5632022 ,\n",
       "       0.54711961, 0.53316517, 0.62558027, 0.65602434, 0.57227273,\n",
       "       0.6734658 , 0.57852475, 0.59649514, 0.4494336 , 0.59056668,\n",
       "       0.41507082, 0.61537047, 0.67569883, 0.6134124 , 0.54681106,\n",
       "       0.51098653, 0.50502338, 0.69199905, 0.42786723, 0.61313291,\n",
       "       0.56019536, 0.56763401, 0.59974013, 0.5692284 , 0.61151779,\n",
       "       0.56199926, 0.48485397, 0.64810115, 0.59056561, 0.54359694,\n",
       "       0.43540022, 0.587986  , 0.53059528, 0.54270028, 0.61549059,\n",
       "       0.55237202, 0.62069953, 0.5710005 , 0.58036106, 0.62090298,\n",
       "       0.51702453, 0.43490914, 0.44864551, 0.53077801, 0.60115815,\n",
       "       0.43276455, 0.44782597, 0.59650146, 0.61877509, 0.58658005,\n",
       "       0.54462173, 0.57587412, 0.58658793, 0.57579053, 0.44653254,\n",
       "       0.69436163, 0.62715325, 0.54118581, 0.52066594, 0.42888232,\n",
       "       0.60897692, 0.59580598, 0.58718858, 0.5953815 , 0.46783957,\n",
       "       0.58453072, 0.60393716, 0.59399928, 0.61985043, 0.63238227,\n",
       "       0.61679228, 0.59443158, 0.61413354, 0.49416674, 0.60908925,\n",
       "       0.53681505, 0.60654289, 0.50694091, 0.45342179, 0.51936904,\n",
       "       0.54981966, 0.54132863, 0.43746677, 0.6493409 , 0.57573742,\n",
       "       0.56223815, 0.55809731, 0.4659114 , 0.44705792, 0.41944651,\n",
       "       0.59126114, 0.50537556, 0.56114069, 0.53016664, 0.58602566,\n",
       "       0.58899581, 0.58548276, 0.65289863, 0.45812214, 0.63096741,\n",
       "       0.67358038, 0.55740779, 0.5372566 , 0.48975136, 0.6057571 ,\n",
       "       0.64465125, 0.6819177 , 0.4327523 , 0.55311977, 0.52016215,\n",
       "       0.42037824, 0.645709  , 0.52368193, 0.55663041, 0.445126  ,\n",
       "       0.58872883, 0.66813118, 0.42935566, 0.62787953, 0.65761141,\n",
       "       0.68679536, 0.5450529 , 0.61422202, 0.53782726, 0.604831  ,\n",
       "       0.56992604, 0.41516247, 0.51852919, 0.60739084, 0.64412503,\n",
       "       0.59945637, 0.6063923 , 0.59634955, 0.62484555, 0.44195351,\n",
       "       0.51766088, 0.54728543, 0.5024541 , 0.56434553, 0.64358912,\n",
       "       0.56389175, 0.54447524, 0.58355416, 0.52103399, 0.57259493,\n",
       "       0.42408962, 0.51543164, 0.57906026, 0.48505835, 0.63552084,\n",
       "       0.60243903, 0.55667249, 0.52759235, 0.56043358, 0.63863043,\n",
       "       0.54114543, 0.58148585, 0.63814624, 0.41000628, 0.60452058,\n",
       "       0.62450268, 0.61254595, 0.5582226 , 0.50518445, 0.45661952,\n",
       "       0.58455195, 0.60244103, 0.56395079, 0.46179249, 0.69983923,\n",
       "       0.63690142, 0.58443295, 0.67703185, 0.43162874, 0.59458115,\n",
       "       0.59176144, 0.55495886, 0.47865684, 0.54314131, 0.49530348,\n",
       "       0.69419532, 0.59861761, 0.43043859, 0.6595976 , 0.51624333,\n",
       "       0.59965588, 0.61341526, 0.51592012, 0.5535802 , 0.44792485,\n",
       "       0.62706556, 0.52871592, 0.61363898, 0.5329178 , 0.68643187,\n",
       "       0.6063471 , 0.40864492, 0.47753506, 0.44405211, 0.65296102,\n",
       "       0.44392936])"
      ]
     },
     "execution_count": 55,
     "metadata": {},
     "output_type": "execute_result"
    }
   ],
   "source": [
    "# probability of getting output as 0 - no rain\n",
    "\n",
    "logreg.predict_proba(X_test)[:,0]"
   ]
  },
  {
   "cell_type": "code",
   "execution_count": 56,
   "id": "explicit-attack",
   "metadata": {},
   "outputs": [
    {
     "data": {
      "text/plain": [
       "array([0.43965558, 0.3814241 , 0.42000906, 0.50146877, 0.45373588,\n",
       "       0.57110775, 0.3876228 , 0.46434792, 0.4101087 , 0.45885669,\n",
       "       0.46742807, 0.38147742, 0.29869128, 0.37792939, 0.34203593,\n",
       "       0.48993112, 0.48576932, 0.55371794, 0.4410386 , 0.4995346 ,\n",
       "       0.42227773, 0.49720145, 0.48053084, 0.40011964, 0.43807837,\n",
       "       0.44972908, 0.40268316, 0.40809305, 0.44616949, 0.37524415,\n",
       "       0.36558015, 0.35891009, 0.59549088, 0.55541493, 0.32114539,\n",
       "       0.48550423, 0.53180851, 0.37950571, 0.49116438, 0.51918926,\n",
       "       0.35773698, 0.47637361, 0.47838002, 0.55589022, 0.53491402,\n",
       "       0.48124393, 0.47446343, 0.48984427, 0.41187221, 0.40180426,\n",
       "       0.44007028, 0.53984803, 0.41325697, 0.53950361, 0.34962903,\n",
       "       0.51852025, 0.42269331, 0.33936917, 0.34444742, 0.41323673,\n",
       "       0.44780853, 0.35849461, 0.46957004, 0.35325028, 0.49555984,\n",
       "       0.4566343 , 0.47495818, 0.41560428, 0.47514559, 0.56986508,\n",
       "       0.31355903, 0.49538693, 0.45954743, 0.46576695, 0.40504953,\n",
       "       0.40638931, 0.36827035, 0.47374269, 0.4687019 , 0.44205952,\n",
       "       0.45087452, 0.52257464, 0.50711293, 0.53892313, 0.40098065,\n",
       "       0.52176839, 0.40974602, 0.53884219, 0.50816854, 0.37126591,\n",
       "       0.42314395, 0.33871219, 0.41042812, 0.56354765, 0.46704946,\n",
       "       0.42011476, 0.4139206 , 0.53769424, 0.4455968 , 0.56237297,\n",
       "       0.46232066, 0.44038039, 0.43243574, 0.30015765, 0.56749975,\n",
       "       0.48089544, 0.53039049, 0.36964284, 0.410472  , 0.36823426,\n",
       "       0.39828873, 0.48606607, 0.50680441, 0.58995585, 0.42588078,\n",
       "       0.43423539, 0.58449842, 0.48132141, 0.30477038, 0.41103928,\n",
       "       0.37051947, 0.37758773, 0.42719564, 0.40546463, 0.48819442,\n",
       "       0.46273465, 0.41317653, 0.37673106, 0.39650436, 0.44145296,\n",
       "       0.4986272 , 0.42955359, 0.41771227, 0.38460505, 0.41123798,\n",
       "       0.46689891, 0.4452878 , 0.47613384, 0.55236303, 0.32430117,\n",
       "       0.38354041, 0.46658236, 0.43135535, 0.44977846, 0.44635749,\n",
       "       0.43209334, 0.4085664 , 0.3982763 , 0.49722065, 0.58390491,\n",
       "       0.49705101, 0.33399274, 0.56479362, 0.44346429, 0.39138198,\n",
       "       0.45262408, 0.41901174, 0.50838482, 0.44842866, 0.4097752 ,\n",
       "       0.52623744, 0.458397  , 0.40635367, 0.31264695, 0.3417795 ,\n",
       "       0.4447701 , 0.40550512, 0.46543896, 0.32852503, 0.56011754,\n",
       "       0.49602026, 0.41020564, 0.30355882, 0.39471469, 0.46170563,\n",
       "       0.50132607, 0.44276147, 0.44685139, 0.50471772, 0.45667939,\n",
       "       0.38363419, 0.44282014, 0.29763067, 0.40181562, 0.40124853,\n",
       "       0.42328889, 0.34580576, 0.39482137, 0.4198091 , 0.32009534,\n",
       "       0.54264174, 0.44302569, 0.42688473, 0.41671749, 0.3658761 ,\n",
       "       0.38435762, 0.36332614, 0.46083359, 0.37706193, 0.52037475,\n",
       "       0.34049183, 0.36422173, 0.48450536, 0.57626085, 0.32758193,\n",
       "       0.47733461, 0.48261374, 0.56418973, 0.44068436, 0.57290198,\n",
       "       0.40148519, 0.44546311, 0.35514321, 0.41254362, 0.46232956,\n",
       "       0.56070277, 0.35146519, 0.4882004 , 0.39862958, 0.54852832,\n",
       "       0.40230279, 0.42355814, 0.3605438 , 0.57069084, 0.545037  ,\n",
       "       0.43863532, 0.39647431, 0.55259347, 0.4973043 , 0.57079583,\n",
       "       0.3801457 , 0.38468306, 0.39629309, 0.47167039, 0.43438848,\n",
       "       0.48083093, 0.46535788, 0.31052449, 0.42842216, 0.56419229,\n",
       "       0.34805014, 0.48114753, 0.46963803, 0.44528079, 0.4367978 ,\n",
       "       0.45288039, 0.46683483, 0.37441973, 0.34397566, 0.42772727,\n",
       "       0.3265342 , 0.42147525, 0.40350486, 0.5505664 , 0.40943332,\n",
       "       0.58492918, 0.38462953, 0.32430117, 0.3865876 , 0.45318894,\n",
       "       0.48901347, 0.49497662, 0.30800095, 0.57213277, 0.38686709,\n",
       "       0.43980464, 0.43236599, 0.40025987, 0.4307716 , 0.38848221,\n",
       "       0.43800074, 0.51514603, 0.35189885, 0.40943439, 0.45640306,\n",
       "       0.56459978, 0.412014  , 0.46940472, 0.45729972, 0.38450941,\n",
       "       0.44762798, 0.37930047, 0.4289995 , 0.41963894, 0.37909702,\n",
       "       0.48297547, 0.56509086, 0.55135449, 0.46922199, 0.39884185,\n",
       "       0.56723545, 0.55217403, 0.40349854, 0.38122491, 0.41341995,\n",
       "       0.45537827, 0.42412588, 0.41341207, 0.42420947, 0.55346746,\n",
       "       0.30563837, 0.37284675, 0.45881419, 0.47933406, 0.57111768,\n",
       "       0.39102308, 0.40419402, 0.41281142, 0.4046185 , 0.53216043,\n",
       "       0.41546928, 0.39606284, 0.40600072, 0.38014957, 0.36761773,\n",
       "       0.38320772, 0.40556842, 0.38586646, 0.50583326, 0.39091075,\n",
       "       0.46318495, 0.39345711, 0.49305909, 0.54657821, 0.48063096,\n",
       "       0.45018034, 0.45867137, 0.56253323, 0.3506591 , 0.42426258,\n",
       "       0.43776185, 0.44190269, 0.5340886 , 0.55294208, 0.58055349,\n",
       "       0.40873886, 0.49462444, 0.43885931, 0.46983336, 0.41397434,\n",
       "       0.41100419, 0.41451724, 0.34710137, 0.54187786, 0.36903259,\n",
       "       0.32641962, 0.44259221, 0.4627434 , 0.51024864, 0.3942429 ,\n",
       "       0.35534875, 0.3180823 , 0.5672477 , 0.44688023, 0.47983785,\n",
       "       0.57962176, 0.354291  , 0.47631807, 0.44336959, 0.554874  ,\n",
       "       0.41127117, 0.33186882, 0.57064434, 0.37212047, 0.34238859,\n",
       "       0.31320464, 0.4549471 , 0.38577798, 0.46217274, 0.395169  ,\n",
       "       0.43007396, 0.58483753, 0.48147081, 0.39260916, 0.35587497,\n",
       "       0.40054363, 0.3936077 , 0.40365045, 0.37515445, 0.55804649,\n",
       "       0.48233912, 0.45271457, 0.4975459 , 0.43565447, 0.35641088,\n",
       "       0.43610825, 0.45552476, 0.41644584, 0.47896601, 0.42740507,\n",
       "       0.57591038, 0.48456836, 0.42093974, 0.51494165, 0.36447916,\n",
       "       0.39756097, 0.44332751, 0.47240765, 0.43956642, 0.36136957,\n",
       "       0.45885457, 0.41851415, 0.36185376, 0.58999372, 0.39547942,\n",
       "       0.37549732, 0.38745405, 0.4417774 , 0.49481555, 0.54338048,\n",
       "       0.41544805, 0.39755897, 0.43604921, 0.53820751, 0.30016077,\n",
       "       0.36309858, 0.41556705, 0.32296815, 0.56837126, 0.40541885,\n",
       "       0.40823856, 0.44504114, 0.52134316, 0.45685869, 0.50469652,\n",
       "       0.30580468, 0.40138239, 0.56956141, 0.3404024 , 0.48375667,\n",
       "       0.40034412, 0.38658474, 0.48407988, 0.4464198 , 0.55207515,\n",
       "       0.37293444, 0.47128408, 0.38636102, 0.4670822 , 0.31356813,\n",
       "       0.3936529 , 0.59135508, 0.52246494, 0.55594789, 0.34703898,\n",
       "       0.55607064])"
      ]
     },
     "execution_count": 56,
     "metadata": {},
     "output_type": "execute_result"
    }
   ],
   "source": [
    "# probability of getting output as 1 - rain\n",
    "\n",
    "logreg.predict_proba(X_test)[:,1]"
   ]
  },
  {
   "cell_type": "markdown",
   "id": "familiar-activity",
   "metadata": {},
   "source": [
    "# Check accuracy score"
   ]
  },
  {
   "cell_type": "code",
   "execution_count": 57,
   "id": "christian-chapel",
   "metadata": {},
   "outputs": [
    {
     "name": "stdout",
     "output_type": "stream",
     "text": [
      "Model accuracy score: 0.7152\n"
     ]
    }
   ],
   "source": [
    "from sklearn.metrics import accuracy_score\n",
    "\n",
    "print('Model accuracy score: {0:0.4f}'. format(accuracy_score(y_test, y_pred_test)))"
   ]
  },
  {
   "cell_type": "code",
   "execution_count": 58,
   "id": "magnetic-nancy",
   "metadata": {},
   "outputs": [
    {
     "data": {
      "text/plain": [
       "array([0, 0, 0, ..., 0, 0, 0], dtype=int64)"
      ]
     },
     "execution_count": 58,
     "metadata": {},
     "output_type": "execute_result"
    }
   ],
   "source": [
    "y_pred_train = logreg.predict(X_train)\n",
    "\n",
    "y_pred_train"
   ]
  },
  {
   "cell_type": "code",
   "execution_count": 59,
   "id": "reliable-outside",
   "metadata": {},
   "outputs": [
    {
     "name": "stdout",
     "output_type": "stream",
     "text": [
      "Training-set accuracy score: 0.7136\n"
     ]
    }
   ],
   "source": [
    "print('Training-set accuracy score: {0:0.4f}'. format(accuracy_score(y_train, y_pred_train)))"
   ]
  },
  {
   "cell_type": "code",
   "execution_count": 60,
   "id": "opponent-pantyhose",
   "metadata": {},
   "outputs": [
    {
     "name": "stdout",
     "output_type": "stream",
     "text": [
      "Training set score: 0.7136\n",
      "Test set score: 0.7152\n"
     ]
    }
   ],
   "source": [
    "# print the scores on training and test set\n",
    "\n",
    "print('Training set score: {:.4f}'.format(logreg.score(X_train, y_train)))\n",
    "\n",
    "print('Test set score: {:.4f}'.format(logreg.score(X_test, y_test)))"
   ]
  },
  {
   "cell_type": "code",
   "execution_count": 61,
   "id": "handed-criterion",
   "metadata": {},
   "outputs": [
    {
     "data": {
      "text/plain": [
       "LogisticRegression(C=100, random_state=0, solver='liblinear')"
      ]
     },
     "execution_count": 61,
     "metadata": {},
     "output_type": "execute_result"
    }
   ],
   "source": [
    "# fit the Logsitic Regression model with C=100\n",
    "\n",
    "# instantiate the model\n",
    "logreg100 = LogisticRegression(C=100, solver='liblinear', random_state=0)\n",
    "\n",
    "\n",
    "# fit the model\n",
    "logreg100.fit(X_train, y_train)"
   ]
  },
  {
   "cell_type": "code",
   "execution_count": 62,
   "id": "structural-college",
   "metadata": {},
   "outputs": [
    {
     "name": "stdout",
     "output_type": "stream",
     "text": [
      "Training set score: 0.7221\n",
      "Test set score: 0.7242\n"
     ]
    }
   ],
   "source": [
    "# print the scores on training and test set\n",
    "\n",
    "print('Training set score: {:.4f}'.format(logreg100.score(X_train, y_train)))\n",
    "\n",
    "print('Test set score: {:.4f}'.format(logreg100.score(X_test, y_test)))"
   ]
  },
  {
   "cell_type": "code",
   "execution_count": 63,
   "id": "olive-thumbnail",
   "metadata": {},
   "outputs": [
    {
     "name": "stdout",
     "output_type": "stream",
     "text": [
      "Confusion matrix\n",
      "\n",
      " [[237   5]\n",
      " [122  82]]\n",
      "\n",
      "True Positives(TP) =  237\n",
      "\n",
      "True Negatives(TN) =  82\n",
      "\n",
      "False Positives(FP) =  5\n",
      "\n",
      "False Negatives(FN) =  122\n"
     ]
    }
   ],
   "source": [
    "# Print the Confusion Matrix and slice it into four pieces\n",
    "\n",
    "from sklearn.metrics import confusion_matrix\n",
    "\n",
    "cm = confusion_matrix(y_test, y_pred_test)\n",
    "\n",
    "print('Confusion matrix\\n\\n', cm)\n",
    "\n",
    "print('\\nTrue Positives(TP) = ', cm[0,0])\n",
    "\n",
    "print('\\nTrue Negatives(TN) = ', cm[1,1])\n",
    "\n",
    "print('\\nFalse Positives(FP) = ', cm[0,1])\n",
    "\n",
    "print('\\nFalse Negatives(FN) = ', cm[1,0])"
   ]
  },
  {
   "cell_type": "code",
   "execution_count": 64,
   "id": "biblical-thumbnail",
   "metadata": {},
   "outputs": [
    {
     "data": {
      "text/plain": [
       "<AxesSubplot:>"
      ]
     },
     "execution_count": 64,
     "metadata": {},
     "output_type": "execute_result"
    },
    {
     "data": {
      "image/png": "[encoded data removed]",
      "text/plain": [
       "<Figure size 432x288 with 2 Axes>"
      ]
     },
     "metadata": {
      "needs_background": "light"
     },
     "output_type": "display_data"
    }
   ],
   "source": [
    "# visualize confusion matrix with seaborn heatmap\n",
    "\n",
    "cm_matrix = pd.DataFrame(data=cm, columns=['Actual Positive:1', 'Actual Negative:0'], \n",
    "                                 index=['Predict Positive:1', 'Predict Negative:0'])\n",
    "\n",
    "sns.heatmap(cm_matrix, annot=True, fmt='d', cmap='YlGnBu')"
   ]
  },
  {
   "cell_type": "code",
   "execution_count": 65,
   "id": "domestic-retail",
   "metadata": {},
   "outputs": [
    {
     "name": "stdout",
     "output_type": "stream",
     "text": [
      "              precision    recall  f1-score   support\n",
      "\n",
      "           0       0.66      0.98      0.79       242\n",
      "           1       0.94      0.40      0.56       204\n",
      "\n",
      "    accuracy                           0.72       446\n",
      "   macro avg       0.80      0.69      0.68       446\n",
      "weighted avg       0.79      0.72      0.69       446\n",
      "\n"
     ]
    }
   ],
   "source": [
    "from sklearn.metrics import classification_report\n",
    "\n",
    "print(classification_report(y_test, y_pred_test))"
   ]
  },
  {
   "cell_type": "markdown",
   "id": "moving-economics",
   "metadata": {},
   "source": [
    "# Classification Accuracy"
   ]
  },
  {
   "cell_type": "code",
   "execution_count": 66,
   "id": "becoming-business",
   "metadata": {},
   "outputs": [],
   "source": [
    "TP = cm[0,0]\n",
    "TN = cm[1,1]\n",
    "FP = cm[0,1]\n",
    "FN = cm[1,0]"
   ]
  },
  {
   "cell_type": "code",
   "execution_count": 67,
   "id": "revised-basement",
   "metadata": {},
   "outputs": [
    {
     "name": "stdout",
     "output_type": "stream",
     "text": [
      "Classification accuracy : 0.7152\n"
     ]
    }
   ],
   "source": [
    "# print classification accuracy\n",
    "\n",
    "classification_accuracy = (TP + TN) / float(TP + TN + FP + FN)\n",
    "\n",
    "print('Classification accuracy : {0:0.4f}'.format(classification_accuracy))"
   ]
  },
  {
   "cell_type": "markdown",
   "id": "superior-chess",
   "metadata": {},
   "source": [
    "# Classification Error"
   ]
  },
  {
   "cell_type": "code",
   "execution_count": 68,
   "id": "quiet-mount",
   "metadata": {},
   "outputs": [
    {
     "name": "stdout",
     "output_type": "stream",
     "text": [
      "Classification error : 0.2848\n"
     ]
    }
   ],
   "source": [
    "# print classification error\n",
    "\n",
    "classification_error = (FP + FN) / float(TP + TN + FP + FN)\n",
    "\n",
    "print('Classification error : {0:0.4f}'.format(classification_error))"
   ]
  },
  {
   "cell_type": "code",
   "execution_count": 69,
   "id": "hazardous-kruger",
   "metadata": {},
   "outputs": [
    {
     "name": "stdout",
     "output_type": "stream",
     "text": [
      "Precision : 0.9793\n"
     ]
    }
   ],
   "source": [
    "# print precision score\n",
    "\n",
    "precision = TP / float(TP + FP)\n",
    "\n",
    "\n",
    "print('Precision : {0:0.4f}'.format(precision))"
   ]
  },
  {
   "cell_type": "code",
   "execution_count": 70,
   "id": "alternate-portal",
   "metadata": {},
   "outputs": [
    {
     "name": "stdout",
     "output_type": "stream",
     "text": [
      "Recall or Sensitivity : 0.6602\n"
     ]
    }
   ],
   "source": [
    "recall = TP / float(TP + FN)\n",
    "\n",
    "print('Recall or Sensitivity : {0:0.4f}'.format(recall))"
   ]
  },
  {
   "cell_type": "code",
   "execution_count": 71,
   "id": "attractive-tissue",
   "metadata": {},
   "outputs": [
    {
     "name": "stdout",
     "output_type": "stream",
     "text": [
      "True Positive Rate : 0.6602\n"
     ]
    }
   ],
   "source": [
    "true_positive_rate = TP / float(TP + FN)\n",
    "\n",
    "\n",
    "print('True Positive Rate : {0:0.4f}'.format(true_positive_rate))"
   ]
  },
  {
   "cell_type": "code",
   "execution_count": 72,
   "id": "decent-reflection",
   "metadata": {},
   "outputs": [
    {
     "name": "stdout",
     "output_type": "stream",
     "text": [
      "False Positive Rate : 0.0575\n"
     ]
    }
   ],
   "source": [
    "false_positive_rate = FP / float(FP + TN)\n",
    "\n",
    "\n",
    "print('False Positive Rate : {0:0.4f}'.format(false_positive_rate))"
   ]
  },
  {
   "cell_type": "code",
   "execution_count": 73,
   "id": "contrary-tolerance",
   "metadata": {},
   "outputs": [
    {
     "name": "stdout",
     "output_type": "stream",
     "text": [
      "Specificity : 0.9425\n"
     ]
    }
   ],
   "source": [
    "specificity = TN / (TN + FP)\n",
    "\n",
    "print('Specificity : {0:0.4f}'.format(specificity))"
   ]
  },
  {
   "cell_type": "code",
   "execution_count": 74,
   "id": "logical-trading",
   "metadata": {},
   "outputs": [
    {
     "data": {
      "text/plain": [
       "array([[0.56034442, 0.43965558],\n",
       "       [0.6185759 , 0.3814241 ],\n",
       "       [0.57999094, 0.42000906],\n",
       "       [0.49853123, 0.50146877],\n",
       "       [0.54626412, 0.45373588],\n",
       "       [0.42889225, 0.57110775],\n",
       "       [0.6123772 , 0.3876228 ],\n",
       "       [0.53565208, 0.46434792],\n",
       "       [0.5898913 , 0.4101087 ],\n",
       "       [0.54114331, 0.45885669]])"
      ]
     },
     "execution_count": 74,
     "metadata": {},
     "output_type": "execute_result"
    }
   ],
   "source": [
    "# print the first 10 predicted probabilities of two classes- 0 and 1\n",
    "\n",
    "y_pred_prob = logreg.predict_proba(X_test)[0:10]\n",
    "\n",
    "y_pred_prob"
   ]
  },
  {
   "cell_type": "code",
   "execution_count": 75,
   "id": "conservative-opposition",
   "metadata": {},
   "outputs": [
    {
     "data": {
      "text/html": [
       "<div>\n",
       "<style scoped>\n",
       "    .dataframe tbody tr th:only-of-type {\n",
       "        vertical-align: middle;\n",
       "    }\n",
       "\n",
       "    .dataframe tbody tr th {\n",
       "        vertical-align: top;\n",
       "    }\n",
       "\n",
       "    .dataframe thead th {\n",
       "        text-align: right;\n",
       "    }\n",
       "</style>\n",
       "<table border=\"1\" class=\"dataframe\">\n",
       "  <thead>\n",
       "    <tr style=\"text-align: right;\">\n",
       "      <th></th>\n",
       "      <th>Prob of - No rain tomorrow (0)</th>\n",
       "      <th>Prob of - Rain tomorrow (1)</th>\n",
       "    </tr>\n",
       "  </thead>\n",
       "  <tbody>\n",
       "    <tr>\n",
       "      <th>0</th>\n",
       "      <td>0.560344</td>\n",
       "      <td>0.439656</td>\n",
       "    </tr>\n",
       "    <tr>\n",
       "      <th>1</th>\n",
       "      <td>0.618576</td>\n",
       "      <td>0.381424</td>\n",
       "    </tr>\n",
       "    <tr>\n",
       "      <th>2</th>\n",
       "      <td>0.579991</td>\n",
       "      <td>0.420009</td>\n",
       "    </tr>\n",
       "    <tr>\n",
       "      <th>3</th>\n",
       "      <td>0.498531</td>\n",
       "      <td>0.501469</td>\n",
       "    </tr>\n",
       "    <tr>\n",
       "      <th>4</th>\n",
       "      <td>0.546264</td>\n",
       "      <td>0.453736</td>\n",
       "    </tr>\n",
       "    <tr>\n",
       "      <th>5</th>\n",
       "      <td>0.428892</td>\n",
       "      <td>0.571108</td>\n",
       "    </tr>\n",
       "    <tr>\n",
       "      <th>6</th>\n",
       "      <td>0.612377</td>\n",
       "      <td>0.387623</td>\n",
       "    </tr>\n",
       "    <tr>\n",
       "      <th>7</th>\n",
       "      <td>0.535652</td>\n",
       "      <td>0.464348</td>\n",
       "    </tr>\n",
       "    <tr>\n",
       "      <th>8</th>\n",
       "      <td>0.589891</td>\n",
       "      <td>0.410109</td>\n",
       "    </tr>\n",
       "    <tr>\n",
       "      <th>9</th>\n",
       "      <td>0.541143</td>\n",
       "      <td>0.458857</td>\n",
       "    </tr>\n",
       "  </tbody>\n",
       "</table>\n",
       "</div>"
      ],
      "text/plain": [
       "   Prob of - No rain tomorrow (0)  Prob of - Rain tomorrow (1)\n",
       "0                        0.560344                     0.439656\n",
       "1                        0.618576                     0.381424\n",
       "2                        0.579991                     0.420009\n",
       "3                        0.498531                     0.501469\n",
       "4                        0.546264                     0.453736\n",
       "5                        0.428892                     0.571108\n",
       "6                        0.612377                     0.387623\n",
       "7                        0.535652                     0.464348\n",
       "8                        0.589891                     0.410109\n",
       "9                        0.541143                     0.458857"
      ]
     },
     "execution_count": 75,
     "metadata": {},
     "output_type": "execute_result"
    }
   ],
   "source": [
    "# store the probabilities in dataframe\n",
    "\n",
    "y_pred_prob_df = pd.DataFrame(data=y_pred_prob, columns=['Prob of - No rain tomorrow (0)', 'Prob of - Rain tomorrow (1)'])\n",
    "\n",
    "y_pred_prob_df"
   ]
  },
  {
   "cell_type": "code",
   "execution_count": 76,
   "id": "owned-treat",
   "metadata": {},
   "outputs": [
    {
     "data": {
      "text/plain": [
       "array([0.43965558, 0.3814241 , 0.42000906, 0.50146877, 0.45373588,\n",
       "       0.57110775, 0.3876228 , 0.46434792, 0.4101087 , 0.45885669])"
      ]
     },
     "execution_count": 76,
     "metadata": {},
     "output_type": "execute_result"
    }
   ],
   "source": [
    "# print the first 10 predicted probabilities for class 1 - Probability of rain\n",
    "\n",
    "logreg.predict_proba(X_test)[0:10, 1]"
   ]
  },
  {
   "cell_type": "code",
   "execution_count": 77,
   "id": "changed-rental",
   "metadata": {},
   "outputs": [],
   "source": [
    "# store the predicted probabilities for class 1 - Probability of rain\n",
    "\n",
    "y_pred1 = logreg.predict_proba(X_test)[:, 1]"
   ]
  },
  {
   "cell_type": "code",
   "execution_count": 78,
   "id": "protecting-error",
   "metadata": {},
   "outputs": [
    {
     "data": {
      "text/plain": [
       "Text(0, 0.5, 'Frequency')"
      ]
     },
     "execution_count": 78,
     "metadata": {},
     "output_type": "execute_result"
    },
    {
     "data": {
      "image/png": "[encoded data removed]",
      "text/plain": [
       "<Figure size 432x288 with 1 Axes>"
      ]
     },
     "metadata": {
      "needs_background": "light"
     },
     "output_type": "display_data"
    }
   ],
   "source": [
    "# plot histogram of predicted probabilities\n",
    "\n",
    "\n",
    "# adjust the font size \n",
    "plt.rcParams['font.size'] = 12\n",
    "\n",
    "\n",
    "# plot histogram with 10 bins\n",
    "plt.hist(y_pred1, bins = 10)\n",
    "\n",
    "\n",
    "# set the title of predicted probabilities\n",
    "plt.title('Histogram of predicted probabilities of y')\n",
    "\n",
    "\n",
    "# set the x-axis limit\n",
    "plt.xlim(0,1)\n",
    "\n",
    "\n",
    "# set the title\n",
    "plt.xlabel('Predicted probabilities of y')\n",
    "plt.ylabel('Frequency')"
   ]
  },
  {
   "cell_type": "code",
   "execution_count": 79,
   "id": "laden-antique",
   "metadata": {},
   "outputs": [
    {
     "name": "stdout",
     "output_type": "stream",
     "text": [
      "Cross validated ROC AUC : 0.5757\n"
     ]
    }
   ],
   "source": [
    "# calculate cross-validated ROC AUC \n",
    "\n",
    "from sklearn.model_selection import cross_val_score\n",
    "\n",
    "Cross_validated_ROC_AUC = cross_val_score(logreg, X_train, y_train, cv=5, scoring='roc_auc').mean()\n",
    "\n",
    "print('Cross validated ROC AUC : {:.4f}'.format(Cross_validated_ROC_AUC))"
   ]
  },
  {
   "cell_type": "code",
   "execution_count": 80,
   "id": "built-coast",
   "metadata": {},
   "outputs": [
    {
     "data": {
      "text/plain": [
       "GridSearchCV(cv=5,\n",
       "             estimator=LogisticRegression(random_state=0, solver='liblinear'),\n",
       "             param_grid=[{'penalty': ['l1', 'l2']}, {'C': [1, 10, 100, 1000]}],\n",
       "             scoring='accuracy')"
      ]
     },
     "execution_count": 80,
     "metadata": {},
     "output_type": "execute_result"
    }
   ],
   "source": [
    "from sklearn.model_selection import GridSearchCV\n",
    "\n",
    "\n",
    "parameters = [{'penalty':['l1','l2']}, \n",
    "              {'C':[1, 10, 100, 1000]}]\n",
    "\n",
    "\n",
    "\n",
    "grid_search = GridSearchCV(estimator = logreg,  \n",
    "                           param_grid = parameters,\n",
    "                           scoring = 'accuracy',\n",
    "                           cv = 5,\n",
    "                           verbose=0)\n",
    "\n",
    "\n",
    "grid_search.fit(X_train, y_train)"
   ]
  },
  {
   "cell_type": "code",
   "execution_count": 81,
   "id": "bored-empire",
   "metadata": {},
   "outputs": [
    {
     "name": "stdout",
     "output_type": "stream",
     "text": [
      "GridSearch CV best score : 0.7164\n",
      "\n",
      "\n",
      "Parameters that give the best results : \n",
      "\n",
      " {'C': 10}\n",
      "\n",
      "\n",
      "Estimator that was chosen by the search : \n",
      "\n",
      " LogisticRegression(C=10, random_state=0, solver='liblinear')\n"
     ]
    }
   ],
   "source": [
    "# examine the best model\n",
    "\n",
    "# best score achieved during the GridSearchCV\n",
    "print('GridSearch CV best score : {:.4f}\\n\\n'.format(grid_search.best_score_))\n",
    "\n",
    "# print parameters that give the best results\n",
    "print('Parameters that give the best results :','\\n\\n', (grid_search.best_params_))\n",
    "\n",
    "# print estimator that was chosen by the GridSearch\n",
    "print('\\n\\nEstimator that was chosen by the search :','\\n\\n', (grid_search.best_estimator_))"
   ]
  },
  {
   "cell_type": "code",
   "execution_count": 82,
   "id": "italic-pixel",
   "metadata": {},
   "outputs": [
    {
     "name": "stdout",
     "output_type": "stream",
     "text": [
      "GridSearch CV score on test set: 0.7220\n"
     ]
    }
   ],
   "source": [
    "# calculate GridSearch CV score on test set\n",
    "\n",
    "print('GridSearch CV score on test set: {0:0.4f}'.format(grid_search.score(X_test, y_test)))"
   ]
  },
  {
   "cell_type": "markdown",
   "id": "technological-frederick",
   "metadata": {},
   "source": [
    "# KNN"
   ]
  },
  {
   "cell_type": "code",
   "execution_count": 83,
   "id": "neutral-casino",
   "metadata": {},
   "outputs": [],
   "source": [
    "from xgboost import XGBClassifier\n",
    "from sklearn.svm import SVC\n",
    "from sklearn.linear_model import LogisticRegression\n",
    "from sklearn.naive_bayes import GaussianNB\n",
    "from sklearn.neighbors import KNeighborsClassifier"
   ]
  },
  {
   "cell_type": "code",
   "execution_count": 84,
   "id": "varied-property",
   "metadata": {},
   "outputs": [
    {
     "data": {
      "text/plain": [
       "KNeighborsClassifier(n_neighbors=3)"
      ]
     },
     "execution_count": 84,
     "metadata": {},
     "output_type": "execute_result"
    }
   ],
   "source": [
    "knn = KNeighborsClassifier(n_neighbors=3)\n",
    "knn.fit(X_train, y_train)"
   ]
  },
  {
   "cell_type": "code",
   "execution_count": 114,
   "id": "biological-happening",
   "metadata": {},
   "outputs": [
    {
     "name": "stdout",
     "output_type": "stream",
     "text": [
      "[[233   9]\n",
      " [ 13 191]]\n",
      "0.9506726457399103\n",
      "              precision    recall  f1-score   support\n",
      "\n",
      "           0       0.95      0.96      0.95       242\n",
      "           1       0.95      0.94      0.95       204\n",
      "\n",
      "    accuracy                           0.95       446\n",
      "   macro avg       0.95      0.95      0.95       446\n",
      "weighted avg       0.95      0.95      0.95       446\n",
      "\n"
     ]
    }
   ],
   "source": [
    "y_pred4 = knn.predict(X_test)\n",
    "print(confusion_matrix(y_test,y_pred4))\n",
    "print(accuracy_score(y_test,y_pred4))\n",
    "print(classification_report(y_test,y_pred4))"
   ]
  },
  {
   "cell_type": "code",
   "execution_count": 86,
   "id": "institutional-backup",
   "metadata": {},
   "outputs": [],
   "source": [
    "from imblearn.over_sampling import SMOTE\n",
    "from sklearn.metrics import accuracy_score,confusion_matrix,classification_report\n",
    "from sklearn import metrics"
   ]
  },
  {
   "cell_type": "code",
   "execution_count": 87,
   "id": "alone-space",
   "metadata": {},
   "outputs": [
    {
     "data": {
      "text/plain": [
       "0.9495422135796467"
      ]
     },
     "execution_count": 87,
     "metadata": {},
     "output_type": "execute_result"
    },
    {
     "data": {
      "image/png": "[encoded data removed]",
      "text/plain": [
       "<Figure size 432x288 with 1 Axes>"
      ]
     },
     "metadata": {
      "needs_background": "light"
     },
     "output_type": "display_data"
    }
   ],
   "source": [
    "metrics.plot_roc_curve(knn, X_test, y_test)\n",
    "metrics.roc_auc_score(y_test, y_pred4, average=None) "
   ]
  },
  {
   "cell_type": "markdown",
   "id": "behind-asset",
   "metadata": {},
   "source": [
    "# SVM"
   ]
  },
  {
   "cell_type": "code",
   "execution_count": 88,
   "id": "loaded-refrigerator",
   "metadata": {},
   "outputs": [
    {
     "data": {
      "text/plain": [
       "SVC()"
      ]
     },
     "execution_count": 88,
     "metadata": {},
     "output_type": "execute_result"
    }
   ],
   "source": [
    "svc = SVC()\n",
    "svc.fit(X_train, y_train)"
   ]
  },
  {
   "cell_type": "code",
   "execution_count": 89,
   "id": "agricultural-scanning",
   "metadata": {},
   "outputs": [
    {
     "name": "stdout",
     "output_type": "stream",
     "text": [
      "[[241   1]\n",
      " [ 26 178]]\n",
      "0.9394618834080718\n",
      "              precision    recall  f1-score   support\n",
      "\n",
      "           0       0.90      1.00      0.95       242\n",
      "           1       0.99      0.87      0.93       204\n",
      "\n",
      "    accuracy                           0.94       446\n",
      "   macro avg       0.95      0.93      0.94       446\n",
      "weighted avg       0.94      0.94      0.94       446\n",
      "\n"
     ]
    }
   ],
   "source": [
    "y_pred5 = svc.predict(X_test)\n",
    "print(confusion_matrix(y_test,y_pred5))\n",
    "print(accuracy_score(y_test,y_pred5))\n",
    "print(classification_report(y_test,y_pred5))"
   ]
  },
  {
   "cell_type": "code",
   "execution_count": 90,
   "id": "eastern-universal",
   "metadata": {},
   "outputs": [
    {
     "data": {
      "text/plain": [
       "0.9342083941014422"
      ]
     },
     "execution_count": 90,
     "metadata": {},
     "output_type": "execute_result"
    },
    {
     "data": {
      "image/png": "[encoded data removed]",
      "text/plain": [
       "<Figure size 432x288 with 1 Axes>"
      ]
     },
     "metadata": {
      "needs_background": "light"
     },
     "output_type": "display_data"
    }
   ],
   "source": [
    "metrics.plot_roc_curve(svc, X_test, y_test)\n",
    "metrics.roc_auc_score(y_test, y_pred5, average=None) "
   ]
  },
  {
   "cell_type": "code",
   "execution_count": 91,
   "id": "listed-decade",
   "metadata": {},
   "outputs": [
    {
     "data": {
      "text/plain": [
       "GaussianNB()"
      ]
     },
     "execution_count": 91,
     "metadata": {},
     "output_type": "execute_result"
    }
   ],
   "source": [
    "gnb = GaussianNB()\n",
    "gnb.fit(X_train, y_train)"
   ]
  },
  {
   "cell_type": "code",
   "execution_count": 92,
   "id": "opposite-minnesota",
   "metadata": {},
   "outputs": [
    {
     "name": "stdout",
     "output_type": "stream",
     "text": [
      "[[238   4]\n",
      " [116  88]]\n",
      "0.7309417040358744\n",
      "              precision    recall  f1-score   support\n",
      "\n",
      "           0       0.67      0.98      0.80       242\n",
      "           1       0.96      0.43      0.59       204\n",
      "\n",
      "    accuracy                           0.73       446\n",
      "   macro avg       0.81      0.71      0.70       446\n",
      "weighted avg       0.80      0.73      0.71       446\n",
      "\n"
     ]
    }
   ],
   "source": [
    "y_pred3 = gnb.predict(X_test)\n",
    "print(confusion_matrix(y_test,y_pred3))\n",
    "print(accuracy_score(y_test,y_pred3))\n",
    "print(classification_report(y_test,y_pred3))"
   ]
  },
  {
   "cell_type": "code",
   "execution_count": 93,
   "id": "pediatric-freeware",
   "metadata": {},
   "outputs": [
    {
     "data": {
      "text/plain": [
       "RandomForestClassifier()"
      ]
     },
     "execution_count": 93,
     "metadata": {},
     "output_type": "execute_result"
    }
   ],
   "source": [
    "from sklearn.ensemble import RandomForestClassifier\n",
    "rf=RandomForestClassifier()\n",
    "rf.fit(X_train,y_train)"
   ]
  },
  {
   "cell_type": "code",
   "execution_count": 94,
   "id": "dying-surprise",
   "metadata": {},
   "outputs": [
    {
     "name": "stdout",
     "output_type": "stream",
     "text": [
      "[[230  12]\n",
      " [ 11 193]]\n",
      "0.9484304932735426\n",
      "              precision    recall  f1-score   support\n",
      "\n",
      "           0       0.95      0.95      0.95       242\n",
      "           1       0.94      0.95      0.94       204\n",
      "\n",
      "    accuracy                           0.95       446\n",
      "   macro avg       0.95      0.95      0.95       446\n",
      "weighted avg       0.95      0.95      0.95       446\n",
      "\n"
     ]
    }
   ],
   "source": [
    "y_pred1 = rf.predict(X_test)\n",
    "print(confusion_matrix(y_test,y_pred1))\n",
    "print(accuracy_score(y_test,y_pred1))\n",
    "print(classification_report(y_test,y_pred1))"
   ]
  },
  {
   "cell_type": "code",
   "execution_count": 95,
   "id": "funny-chapter",
   "metadata": {},
   "outputs": [
    {
     "data": {
      "text/plain": [
       "0.9482458272565224"
      ]
     },
     "execution_count": 95,
     "metadata": {},
     "output_type": "execute_result"
    },
    {
     "data": {
      "image/png": "[encoded data removed]",
      "text/plain": [
       "<Figure size 432x288 with 1 Axes>"
      ]
     },
     "metadata": {
      "needs_background": "light"
     },
     "output_type": "display_data"
    }
   ],
   "source": [
    "metrics.plot_roc_curve(rf, X_test, y_test)\n",
    "metrics.roc_auc_score(y_test, y_pred1, average=None) "
   ]
  },
  {
   "cell_type": "code",
   "execution_count": 96,
   "id": "specific-archive",
   "metadata": {},
   "outputs": [
    {
     "data": {
      "text/plain": [
       "0.9482458272565224"
      ]
     },
     "execution_count": 96,
     "metadata": {},
     "output_type": "execute_result"
    },
    {
     "data": {
      "image/png": "[encoded data removed]",
      "text/plain": [
       "<Figure size 432x288 with 1 Axes>"
      ]
     },
     "metadata": {
      "needs_background": "light"
     },
     "output_type": "display_data"
    }
   ],
   "source": [
    "metrics.plot_roc_curve(rf, X_test, y_test)\n",
    "metrics.roc_auc_score(y_test, y_pred1, average=None) "
   ]
  },
  {
   "cell_type": "code",
   "execution_count": 97,
   "id": "compact-antique",
   "metadata": {},
   "outputs": [
    {
     "data": {
      "text/plain": [
       "LogisticRegression()"
      ]
     },
     "execution_count": 97,
     "metadata": {},
     "output_type": "execute_result"
    }
   ],
   "source": [
    "logreg = LogisticRegression()\n",
    "logreg.fit(X_train, y_train)"
   ]
  },
  {
   "cell_type": "code",
   "execution_count": 98,
   "id": "engaged-universal",
   "metadata": {},
   "outputs": [
    {
     "name": "stdout",
     "output_type": "stream",
     "text": [
      "[[237   5]\n",
      " [122  82]]\n",
      "0.7152466367713004\n",
      "              precision    recall  f1-score   support\n",
      "\n",
      "           0       0.66      0.98      0.79       242\n",
      "           1       0.94      0.40      0.56       204\n",
      "\n",
      "    accuracy                           0.72       446\n",
      "   macro avg       0.80      0.69      0.68       446\n",
      "weighted avg       0.79      0.72      0.69       446\n",
      "\n"
     ]
    }
   ],
   "source": [
    "y_pred2 = logreg.predict(X_test)\n",
    "print(confusion_matrix(y_test,y_pred2))\n",
    "print(accuracy_score(y_test,y_pred2))\n",
    "print(classification_report(y_test,y_pred2))"
   ]
  },
  {
   "cell_type": "code",
   "execution_count": 99,
   "id": "spare-driver",
   "metadata": {},
   "outputs": [
    {
     "name": "stdout",
     "output_type": "stream",
     "text": [
      "[16:32:08] WARNING: D:\\Build\\xgboost\\xgboost-1.3.1.git\\src\\learner.cc:1061: Starting in XGBoost 1.3.0, the default evaluation metric used with the objective 'binary:logistic' was changed from 'error' to 'logloss'. Explicitly set eval_metric if you'd like to restore the old behavior.\n"
     ]
    },
    {
     "data": {
      "text/plain": [
       "XGBClassifier(base_score=0.5, booster='gbtree', colsample_bylevel=1,\n",
       "              colsample_bynode=1, colsample_bytree=1, gamma=0, gpu_id=-1,\n",
       "              importance_type='gain', interaction_constraints='',\n",
       "              learning_rate=0.300000012, max_delta_step=0, max_depth=6,\n",
       "              min_child_weight=1, missing=nan, monotone_constraints='()',\n",
       "              n_estimators=100, n_jobs=4, num_parallel_tree=1, random_state=0,\n",
       "              reg_alpha=0, reg_lambda=1, scale_pos_weight=1, subsample=1,\n",
       "              tree_method='exact', validate_parameters=1, verbosity=None)"
      ]
     },
     "execution_count": 99,
     "metadata": {},
     "output_type": "execute_result"
    }
   ],
   "source": [
    "xgb = XGBClassifier()\n",
    "xgb.fit(X_train, y_train)"
   ]
  },
  {
   "cell_type": "code",
   "execution_count": 100,
   "id": "professional-jewel",
   "metadata": {},
   "outputs": [
    {
     "name": "stdout",
     "output_type": "stream",
     "text": [
      "[[229  13]\n",
      " [ 13 191]]\n",
      "0.9417040358744395\n",
      "              precision    recall  f1-score   support\n",
      "\n",
      "           0       0.95      0.95      0.95       242\n",
      "           1       0.94      0.94      0.94       204\n",
      "\n",
      "    accuracy                           0.94       446\n",
      "   macro avg       0.94      0.94      0.94       446\n",
      "weighted avg       0.94      0.94      0.94       446\n",
      "\n"
     ]
    }
   ],
   "source": [
    "y_pred6 = xgb.predict(X_test)\n",
    "print(confusion_matrix(y_test,y_pred6))\n",
    "print(accuracy_score(y_test,y_pred6))\n",
    "print(classification_report(y_test,y_pred6))"
   ]
  },
  {
   "cell_type": "code",
   "execution_count": 101,
   "id": "seasonal-indian",
   "metadata": {},
   "outputs": [
    {
     "data": {
      "text/plain": [
       "0.9412777507697293"
      ]
     },
     "execution_count": 101,
     "metadata": {},
     "output_type": "execute_result"
    },
    {
     "data": {
      "image/png": "[encoded data removed]",
      "text/plain": [
       "<Figure size 432x288 with 1 Axes>"
      ]
     },
     "metadata": {
      "needs_background": "light"
     },
     "output_type": "display_data"
    }
   ],
   "source": [
    "metrics.plot_roc_curve(xgb, X_test, y_test)\n",
    "metrics.roc_auc_score(y_test, y_pred6, average=None) "
   ]
  },
  {
   "cell_type": "code",
   "execution_count": 121,
   "id": "serious-vinyl",
   "metadata": {},
   "outputs": [
    {
     "data": {
      "text/plain": [
       "0.9282511210762332"
      ]
     },
     "execution_count": 121,
     "metadata": {},
     "output_type": "execute_result"
    }
   ],
   "source": [
    "# Decision Tree Classifier\n",
    "from sklearn.tree import DecisionTreeClassifier\n",
    "dt_model = DecisionTreeClassifier(criterion= 'entropy', random_state=0)\n",
    "dt_model.fit(X_train, y_train)\n",
    "y_pred_dt = dt_model.predict(X_test)\n",
    "accuracy_score(y_test, y_pred_dt)"
   ]
  },
  {
   "cell_type": "markdown",
   "id": "worst-confidentiality",
   "metadata": {},
   "source": [
    "KNN give best accuracy and low error rate so i go with KNN"
   ]
  },
  {
   "cell_type": "code",
   "execution_count": null,
   "id": "flush-reach",
   "metadata": {},
   "outputs": [],
   "source": []
  }
 ],
 "metadata": {
  "kernelspec": {
   "display_name": "Python 3",
   "language": "python",
   "name": "python3"
  },
  "language_info": {
   "codemirror_mode": {
    "name": "ipython",
    "version": 3
   },
   "file_extension": ".py",
   "mimetype": "text/x-python",
   "name": "python",
   "nbconvert_exporter": "python",
   "pygments_lexer": "ipython3",
   "version": "3.8.8"
  }
 },
 "nbformat": 4,
 "nbformat_minor": 5
}
